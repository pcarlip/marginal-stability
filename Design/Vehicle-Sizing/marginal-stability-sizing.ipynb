{
 "cells": [
  {
   "cell_type": "markdown",
   "metadata": {},
   "source": [
    "# Marginal Stability Vehicle Sizing\n",
    "This sheet uses <code>numpy, matplotlib, and simulations</code>.\n",
    "\n",
    "<code>simulations</code> is developed and maintained (no promises) by Cameron. The current version of the code is 0.0.1 and can be downloaded from github [here](https://github.com/cmflannery/simulations). The source-code is not currently on pip."
   ]
  },
  {
   "cell_type": "code",
   "execution_count": 5,
   "metadata": {
    "collapsed": true
   },
   "outputs": [],
   "source": [
    "import simulations as sim\n",
    "import matplotlib.pyplot as plt\n",
    "import numpy as np\n",
    "import math as math\n",
    "import tanksim\n",
    "import unit_conversions as unit"
   ]
  },
  {
   "cell_type": "code",
   "execution_count": 6,
   "metadata": {
    "collapsed": true
   },
   "outputs": [],
   "source": [
    "def plot_alt(fig):\n",
    "    # plot altitude\n",
    "    ax1 = fig.add_subplot(3,1,1)\n",
    "    ax1.xaxis.grid(linewidth=1.0)\n",
    "    ax1.yaxis.grid(linewidth=1.0)\n",
    "    ax1.grid(True, linewidth=1)\n",
    "    ax1.plot(time,kmaltitude)\n",
    "    ax1.set_ylabel('Altitude (km)')\n",
    "\n",
    "    ax1.set_title('Altitude and Velocity')\n",
    "\n",
    "    # plot velocity\n",
    "    kmVel = [x/1000 for x in velocity]\n",
    "    ax2 = fig.add_subplot(3,1,2)\n",
    "    ax2.xaxis.grid(linewidth=1.0)\n",
    "    ax2.yaxis.grid(linewidth=1.0)\n",
    "    ax2.grid(True, linewidth=1)\n",
    "    ax2.plot(time,kmVel)\n",
    "    ax2.set_ylabel('Velocity (km/s)')\n",
    "\n",
    "    # plot acceleration\n",
    "    gees = [x/g0 for x in acceleration]\n",
    "    ax3 = fig.add_subplot(3,1,3)\n",
    "    ax3.xaxis.grid(linewidth=1.0)\n",
    "    ax3.yaxis.grid(linewidth=1.0)\n",
    "    ax3.grid(True, linewidth=1)\n",
    "    ax3.plot(time,gees)\n",
    "    ax3.set_ylabel('Acceleration (gees)')\n",
    "    ax3.set_xlabel('Time (s)')\n",
    "    \n",
    "def plot_thrust(fig):\n",
    "    # plot thrust\n",
    "    ax = fig.add_subplot(2,1,1)\n",
    "    ax.xaxis.grid(linewidth=1.0)\n",
    "    ax.yaxis.grid(linewidth=1.0)\n",
    "    ax.grid(True, linewidth=1)\n",
    "    ax.plot(time,thrust)\n",
    "    ax.set_ylabel('Thrust (N)')\n",
    "    \n",
    "    ax.set_title('Thrust and Drag')\n",
    "    \n",
    "    # plot drag\n",
    "    ax1 = fig.add_subplot(2,1,2)\n",
    "    ax1.xaxis.grid(linewidth=1.0)\n",
    "    ax1.yaxis.grid(linewidth=1.0)\n",
    "    ax1.grid(True, linewidth=1)\n",
    "    ax1.plot(time,drag)\n",
    "    ax1.set_ylabel('Drag (N)')\n",
    "    ax1.set_ylim(0,2e5)"
   ]
  },
  {
   "cell_type": "code",
   "execution_count": 7,
   "metadata": {},
   "outputs": [
    {
     "ename": "NameError",
     "evalue": "name 'lbToKg' is not defined",
     "output_type": "error",
     "traceback": [
      "\u001b[0;31m---------------------------------------------------------------------------\u001b[0m",
      "\u001b[0;31mNameError\u001b[0m                                 Traceback (most recent call last)",
      "\u001b[0;32m<ipython-input-7-68ff610e542f>\u001b[0m in \u001b[0;36m<module>\u001b[0;34m()\u001b[0m\n\u001b[1;32m     30\u001b[0m \u001b[0mtank\u001b[0m \u001b[0;34m=\u001b[0m \u001b[0mtanksim\u001b[0m\u001b[0;34m.\u001b[0m\u001b[0mtank\u001b[0m\u001b[0;34m(\u001b[0m\u001b[0mdiameter\u001b[0m\u001b[0;34m,\u001b[0m\u001b[0mtankpressure\u001b[0m\u001b[0;34m,\u001b[0m\u001b[0mfos\u001b[0m\u001b[0;34m,\u001b[0m\u001b[0mpressurantdiameter\u001b[0m\u001b[0;34m,\u001b[0m\u001b[0mHEinitialpressure\u001b[0m\u001b[0;34m,\u001b[0m\u001b[0mHEfinalpressure\u001b[0m\u001b[0;34m,\u001b[0m\u001b[0munit\u001b[0m\u001b[0;34m.\u001b[0m\u001b[0mkgToLb\u001b[0m\u001b[0;34m(\u001b[0m\u001b[0mmLOx\u001b[0m\u001b[0;34m)\u001b[0m\u001b[0;34m,\u001b[0m\u001b[0munit\u001b[0m\u001b[0;34m.\u001b[0m\u001b[0mkgToLb\u001b[0m\u001b[0;34m(\u001b[0m\u001b[0mmRP1\u001b[0m\u001b[0;34m)\u001b[0m\u001b[0;34m)\u001b[0m\u001b[0;34m\u001b[0m\u001b[0m\n\u001b[1;32m     31\u001b[0m \u001b[0mtankSpecs\u001b[0m \u001b[0;34m=\u001b[0m \u001b[0mtank\u001b[0m\u001b[0;34m.\u001b[0m\u001b[0mtankCalc\u001b[0m\u001b[0;34m(\u001b[0m\u001b[0;34m)\u001b[0m\u001b[0;34m\u001b[0m\u001b[0m\n\u001b[0;32m---> 32\u001b[0;31m \u001b[0mmtank\u001b[0m \u001b[0;34m=\u001b[0m \u001b[0mlbToKg\u001b[0m\u001b[0;34m(\u001b[0m\u001b[0mtankSpecs\u001b[0m\u001b[0;34m[\u001b[0m\u001b[0;34m'tank_mass'\u001b[0m\u001b[0;34m]\u001b[0m\u001b[0;34m)\u001b[0m\u001b[0;34m\u001b[0m\u001b[0m\n\u001b[0m\u001b[1;32m     33\u001b[0m \u001b[0;34m\u001b[0m\u001b[0m\n\u001b[1;32m     34\u001b[0m \u001b[0;32mif\u001b[0m \u001b[0mdiameter\u001b[0m \u001b[0;34m==\u001b[0m \u001b[0;36m8\u001b[0m\u001b[0;34m:\u001b[0m\u001b[0;34m\u001b[0m\u001b[0m\n",
      "\u001b[0;31mNameError\u001b[0m: name 'lbToKg' is not defined"
     ]
    }
   ],
   "source": [
    "burntime = 35# s\n",
    "\n",
    "nengines = 1\n",
    "thrust_sl = 7500  # lbf\n",
    "Isp = 260 #s\n",
    "g0 = 9.81 #m/s^2\n",
    "mdot = nengines*unit.lbfToN(thrust_sl)/(g0*Isp)\n",
    "twratio = 50  # estimated thrust 2 weight ratio\n",
    "mixtureratio = 2.23\n",
    "\n",
    "mstructure = 69.13  # kg\n",
    "mavionics = 9.97  # kg\n",
    "msystems = 30.75 #kg\n",
    "mmisc = 11 #kg\n",
    "mengine = unit.lbfToN(thrust_sl)*nengines/(twratio*g0)\n",
    "mpropulsion = mengine + 4.5 # kg\n",
    "mpropellant = mdot*burntime\n",
    "\n",
    "diameter = 15 #in\n",
    "\n",
    "mRP1 = mpropellant / (mixtureratio + 1)\n",
    "mLOx = mpropellant - mRP1\n",
    "\n",
    "tankpressure = 750 #psi\n",
    "fos = 4\n",
    "pressurantdiameter = diameter - 2 #in\n",
    "HEinitialpressure = 4500 #psi\n",
    "HEfinalpressure = 50 #psi\n",
    "\n",
    "tank = tanksim.tank(diameter,tankpressure,fos,pressurantdiameter,HEinitialpressure,HEfinalpressure,unit.kgToLb(mLOx),unit.kgToLb(mRP1))\n",
    "tankSpecs = tank.tankCalc()\n",
    "mtank = unit.lbToKg(tankSpecs['tank_mass'])\n",
    "\n",
    "if diameter == 8:\n",
    "    refArea = .0325 #m^2\n",
    "elif diameter == 15:\n",
    "    refArea = .114 #m^2\n",
    "    mstructure = mstructure - 4.5 + 26 #fins are much larger and heavier in 15\" rocket designs\n",
    "else:\n",
    "    refArea = .05 #m^2\n",
    "#reference area of .05 for 10\" rocket, .0325 for 8\" rocket, .114 for 15\" rocket\n",
    "\n",
    "m0 = mpropulsion + mpropellant + mstructure + mavionics + msystems + mmisc + mtank\n",
    "\n",
    "print('### STRUCTURAL PARAMETERS ###')\n",
    "print('Propellant Mass = %.2f kg' % mpropellant)\n",
    "print('Propulsion Mass = %.2f kg' % mpropulsion)\n",
    "print('Tank Mass = %.2f kg' % mtank)\n",
    "print('Structural Mass (inc. Tank) = %.2f kg' % (mstructure + mtank))\n",
    "print('Systems Mass = %.2f kg' % msystems)\n",
    "print('Misc Mass = %.2f kg' % mmisc)\n",
    "print('Avionics Mass = %.2f kg' % mavionics)\n",
    "print('Mass Propellant Ratio (Mprop/M0) %.2f' % (mpropellant/m0))\n",
    "print('Total Wet Mass: %.2f kg' % (m0))\n",
    "print('Total Dry Mass: %.2f kg' % (m0-mpropellant))\n",
    "print('\\n### ENGINE PARAMETERS ###')\n",
    "print('Thrust = %d lbf' % (thrust_sl*nengines))\n",
    "print('Isp = %d s' % Isp)\n",
    "print('mdot = %.2f kg/s' % mdot)\n",
    "print('Total Impulse = %i Ns' % (thrust_sl*burntime*nengines))\n",
    "\n",
    "print('\\n### OTHER IMPORTANT THINGS ###')\n",
    "print('Burn Time = %.2f s' % burntime)\n",
    "\n",
    "initialConditions = {\n",
    "    'time': 0,\n",
    "    'velocity': 0,\n",
    "    'flight_angle': 0,\n",
    "    'flight_heading': np.deg2rad(90),\n",
    "    'latitude': 0,\n",
    "    'longitude': 0,\n",
    "    'altitude': 0,\n",
    "    'mass': m0,\n",
    "    'heat': 0,\n",
    "    'lift_coefficient': 0,\n",
    "    'bank_angle': 0,\n",
    "    'reference_area': refArea\n",
    "}\n",
    "\n",
    "engines = {\n",
    "    'thrust_sl': unit.lbfToN(thrust_sl),\n",
    "    'thrust_angle': 0,\n",
    "    'Isp': Isp,\n",
    "    'Ae': 0.25,\n",
    "    'nengines': nengines\n",
    "}"
   ]
  },
  {
   "cell_type": "code",
   "execution_count": null,
   "metadata": {
    "collapsed": true,
    "scrolled": true
   },
   "outputs": [],
   "source": [
    "itsatest = sim.Rocket(initialConditions, engines, burntime)\n",
    "altitude, velocity, acceleration, mass, time, thrust, drag, Q, rho = itsatest.run()"
   ]
  },
  {
   "cell_type": "code",
   "execution_count": null,
   "metadata": {
    "scrolled": false
   },
   "outputs": [],
   "source": [
    "kmaltitude = [x/1000 for x in altitude]\n",
    "print('Apogee = %d km' % max(kmaltitude))\n",
    "kmvelocity = [v/1000 for v in velocity]\n",
    "print('Max Velocity = %.2f km/s' % max(kmvelocity))\n",
    "gees = [a/g0 for a in acceleration]\n",
    "print('Max Acceleration = %.2f gees' % max(gees))\n",
    "print('Max Q = %.2f Pa' % max(Q))\n",
    "Drag = drag[0:len(Q)]\n",
    "print('Max Drag = %.2f N' % max(Drag))\n",
    "\n",
    "def maxAndTime(list):\n",
    "    max = 0\n",
    "    time = 0\n",
    "    for i in range(len(list)):\n",
    "        if list[i] > max:\n",
    "            max = list[i]\n",
    "            time = i\n",
    "    return (max,time)\n",
    "\n",
    "maxQ,maxQTime = maxAndTime(Q)\n",
    "print(maxQ)\n",
    "print(maxQTime)\n",
    "print(rho[maxQTime])\n",
    "print(velocity[maxQTime])\n",
    "\n",
    "fig = plt.figure(figsize=(15,10))\n",
    "fig.subplots_adjust(hspace=0.2)\n",
    "\n",
    "# fig2 = plt.figure(figsize=(15,10))\n",
    "# fig2.subplots_adjust(hspace=0.2)\n",
    "\n",
    "plot_alt(fig)\n",
    "plt.show()"
   ]
  },
  {
   "cell_type": "code",
   "execution_count": 30,
   "metadata": {
    "scrolled": false
   },
   "outputs": [
    {
     "data": {
      "image/png": "[encoded data removed]",
      "text/plain": [
       "<Figure size 720x432 with 1 Axes>"
      ]
     },
     "metadata": {},
     "output_type": "display_data"
    }
   ],
   "source": [
    "fig1 = plt.figure(figsize=(10,6))\n",
    "ax11 = fig1.add_subplot(1,1,1)\n",
    "ax11.plot(time,drag)\n",
    "ax11.set_title('Drag')\n",
    "ax11.set_xlabel('Time (s)')\n",
    "ax11.set_ylabel('Drag (N)')\n",
    "plt.axis([0,350,0,10000])\n",
    "ax11.grid()\n",
    "plt.show()"
   ]
  },
  {
   "cell_type": "code",
   "execution_count": null,
   "metadata": {},
   "outputs": [],
   "source": []
  }
 ],
 "metadata": {
  "kernelspec": {
   "display_name": "Python 3",
   "language": "python",
   "name": "python3"
  },
  "language_info": {
   "codemirror_mode": {
    "name": "ipython",
    "version": 3
   },
   "file_extension": ".py",
   "mimetype": "text/x-python",
   "name": "python",
   "nbconvert_exporter": "python",
   "pygments_lexer": "ipython3",
   "version": "3.6.5"
  }
 },
 "nbformat": 4,
 "nbformat_minor": 2
}
